{
 "cells": [
  {
   "cell_type": "code",
   "execution_count": 1,
   "metadata": {},
   "outputs": [],
   "source": [
    "# import librariesȘ\n",
    "import numpy as np\n",
    "import matplotlib.pyplot as plt\n",
    "from scipy.optimize import curve_fit"
   ]
  },
  {
   "cell_type": "code",
   "execution_count": 3,
   "metadata": {},
   "outputs": [],
   "source": [
    "# Dataset values\n",
    "day = np.arange(0,8)\n",
    "weight = np.array([251,209,157,129,103,81,66,49])"
   ]
  },
  {
   "cell_type": "code",
   "execution_count": 7,
   "metadata": {},
   "outputs": [],
   "source": [
    "#Exponential function\n",
    "def expo_func(x,a,b):\n",
    "    return a * b**x"
   ]
  },
  {
   "cell_type": "code",
   "execution_count": 8,
   "metadata": {},
   "outputs": [
    {
     "name": "stdout",
     "output_type": "stream",
     "text": [
      "[254.0485724   0.7963651]\n",
      "[[ 8.94298129e+00 -8.06359265e-03]\n",
      " [-8.06359265e-03  1.66434385e-05]]\n"
     ]
    }
   ],
   "source": [
    "#popt : optimal values for parameters\n",
    "#pcov : the estimated covariance of popt.\n",
    "\n",
    "popt, pcov = curve_fit(expo_func, day, weight)\n",
    "weight_pred = expo_func(day, popt[0], popt[1])\n",
    "print(popt)\n",
    "print(pcov)"
   ]
  },
  {
   "cell_type": "code",
   "execution_count": 9,
   "metadata": {},
   "outputs": [
    {
     "data": {
      "image/png": "[encoded data removed]",
      "text/plain": [
       "<Figure size 432x288 with 1 Axes>"
      ]
     },
     "metadata": {
      "needs_background": "light"
     },
     "output_type": "display_data"
    }
   ],
   "source": [
    "#Plot the data:\n",
    "\n",
    "plt.plot(day, weight_pred, 'r-')\n",
    "plt.scatter(day, weight, label = 'Day vs Weight')\n",
    "plt.title(\"Day vs Weight a*b^x\")\n",
    "plt.xlabel('Day')\n",
    "plt.ylabel('Weight')\n",
    "plt.legend()\n",
    "plt.show()"
   ]
  },
  {
   "cell_type": "code",
   "execution_count": 10,
   "metadata": {},
   "outputs": [
    {
     "data": {
      "text/plain": [
       "0.9977273046642591"
      ]
     },
     "execution_count": 10,
     "metadata": {},
     "output_type": "execute_result"
    }
   ],
   "source": [
    "# check accuracy:\n",
    "\n",
    "from sklearn.metrics import r2_score\n",
    "r2_score(weight, weight_pred)"
   ]
  },
  {
   "cell_type": "code",
   "execution_count": null,
   "metadata": {},
   "outputs": [],
   "source": []
  }
 ],
 "metadata": {
  "kernelspec": {
   "display_name": "Python 3",
   "language": "python",
   "name": "python3"
  },
  "language_info": {
   "codemirror_mode": {
    "name": "ipython",
    "version": 3
   },
   "file_extension": ".py",
   "mimetype": "text/x-python",
   "name": "python",
   "nbconvert_exporter": "python",
   "pygments_lexer": "ipython3",
   "version": "3.7.3"
  }
 },
 "nbformat": 4,
 "nbformat_minor": 4
}
