{
 "cells": [
  {
   "cell_type": "code",
   "execution_count": 1,
   "metadata": {},
   "outputs": [],
   "source": [
    "#Import libraries\n",
    "\n",
    "import numpy as np\n",
    "import matplotlib.pyplot as plt"
   ]
  },
  {
   "cell_type": "code",
   "execution_count": 66,
   "metadata": {},
   "outputs": [
    {
     "data": {
      "image/png": "[encoded data removed]",
      "text/plain": [
       "<Figure size 432x288 with 1 Axes>"
      ]
     },
     "metadata": {
      "needs_background": "light"
     },
     "output_type": "display_data"
    }
   ],
   "source": [
    "#generate data points:\n",
    "\n",
    "x = np.arange(-5,5,0.1)\n",
    "\n",
    "#for y we are going to take a polynomial function:\n",
    "\n",
    "y = x**3 + x**2 + x + 1\n",
    "\n",
    "#add some noise to our data:\n",
    "#using normal distribution:\n",
    "\n",
    "y_noise = 20*np.random.normal(size=len(x))\n",
    "\n",
    "y = y+y_noise\n",
    "plt.scatter(x,y)\n",
    "plt.xlabel(\"X\")\n",
    "plt.ylabel(\"Y\")\n",
    "plt.show()"
   ]
  },
  {
   "cell_type": "code",
   "execution_count": 67,
   "metadata": {},
   "outputs": [],
   "source": [
    "x1 = np.reshape(x, (len(x), 1))\n",
    "x2 = np.power(x1, 2)\n",
    "x3 = np.power(x1, 3)"
   ]
  },
  {
   "cell_type": "code",
   "execution_count": 68,
   "metadata": {},
   "outputs": [],
   "source": [
    "#adding beta-0 = 1\n",
    "\n",
    "x_bias = np.ones((len(x1),1))"
   ]
  },
  {
   "cell_type": "code",
   "execution_count": 69,
   "metadata": {},
   "outputs": [],
   "source": [
    "#Form the complete matrix:\n",
    "x_new = np.append(x_bias,x1,axis=1)\n",
    "x_new = np.append(x_new,x2,axis=1)\n",
    "x_new = np.append(x_new,x3,axis=1)"
   ]
  },
  {
   "cell_type": "code",
   "execution_count": 70,
   "metadata": {},
   "outputs": [
    {
     "data": {
      "text/plain": [
       "array([3.36013019, 3.14590902, 0.78809977, 0.90871618])"
      ]
     },
     "execution_count": 70,
     "metadata": {},
     "output_type": "execute_result"
    }
   ],
   "source": [
    "temp1 = np.linalg.inv(x_new.T @ x_new)\n",
    "temp2 = x_new.T @ y\n",
    "theta = temp1.dot(temp2)\n",
    "theta"
   ]
  },
  {
   "cell_type": "code",
   "execution_count": 71,
   "metadata": {},
   "outputs": [],
   "source": [
    "b0 = theta[0]\n",
    "b1 = theta[1]\n",
    "b2 = theta[2]\n",
    "b3 = theta[3]"
   ]
  },
  {
   "cell_type": "code",
   "execution_count": 72,
   "metadata": {},
   "outputs": [
    {
     "data": {
      "text/plain": [
       "[<matplotlib.lines.Line2D at 0x7fd914261cc0>]"
      ]
     },
     "execution_count": 72,
     "metadata": {},
     "output_type": "execute_result"
    },
    {
     "data": {
      "image/png": "[encoded data removed]",
      "text/plain": [
       "<Figure size 432x288 with 1 Axes>"
      ]
     },
     "metadata": {
      "needs_background": "light"
     },
     "output_type": "display_data"
    }
   ],
   "source": [
    "#plot polynomial curve\n",
    "plt.scatter(x,y)\n",
    "plt.plot(x,b0 + b1*x1 + b2*x2 + b3*x3, c = \"red\")"
   ]
  },
  {
   "cell_type": "code",
   "execution_count": 86,
   "metadata": {},
   "outputs": [],
   "source": [
    "#prediction function\n",
    "def prediction(x1,x2,x3,b0,b1,b2,b3):\n",
    "    y_pred = b0 + b1*x1 + b2*x2 + b3*x3\n",
    "    return y_pred"
   ]
  },
  {
   "cell_type": "code",
   "execution_count": 87,
   "metadata": {},
   "outputs": [],
   "source": [
    "pred = prediction(x1,x2,x3,b0,b1,b2,b3)"
   ]
  },
  {
   "cell_type": "code",
   "execution_count": 75,
   "metadata": {},
   "outputs": [],
   "source": [
    "#calculate accuracy of model:\n",
    "def err(y_pred, y):\n",
    "    var = (y - y_pred)\n",
    "    var = var * var\n",
    "    n = len(var)\n",
    "    MSE = var.sum()\n",
    "    MSE = MSE/n\n",
    "    \n",
    "    return MSE"
   ]
  },
  {
   "cell_type": "code",
   "execution_count": 92,
   "metadata": {},
   "outputs": [
    {
     "data": {
      "text/plain": [
       "400.2243907338893"
      ]
     },
     "execution_count": 92,
     "metadata": {},
     "output_type": "execute_result"
    }
   ],
   "source": [
    "#calculate error\n",
    "y = np.reshape(y, (len(y),1))\n",
    "error = err(pred, y)\n",
    "error"
   ]
  }
 ],
 "metadata": {
  "kernelspec": {
   "display_name": "Python 3",
   "language": "python",
   "name": "python3"
  },
  "language_info": {
   "codemirror_mode": {
    "name": "ipython",
    "version": 3
   },
   "file_extension": ".py",
   "mimetype": "text/x-python",
   "name": "python",
   "nbconvert_exporter": "python",
   "pygments_lexer": "ipython3",
   "version": "3.7.3"
  }
 },
 "nbformat": 4,
 "nbformat_minor": 4
}
