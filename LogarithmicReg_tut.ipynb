{
 "cells": [
  {
   "cell_type": "code",
   "execution_count": 1,
   "metadata": {},
   "outputs": [],
   "source": [
    "import numpy as np\n",
    "import matplotlib.pyplot as plt\n",
    "from sklearn.metrics import r2_score"
   ]
  },
  {
   "cell_type": "code",
   "execution_count": 9,
   "metadata": {},
   "outputs": [
    {
     "data": {
      "text/plain": [
       "<matplotlib.collections.PathCollection at 0x7fb975a1b710>"
      ]
     },
     "execution_count": 9,
     "metadata": {},
     "output_type": "execute_result"
    },
    {
     "data": {
      "image/png": "[encoded data removed]",
      "text/plain": [
       "<Figure size 432x288 with 1 Axes>"
      ]
     },
     "metadata": {
      "needs_background": "light"
     },
     "output_type": "display_data"
    }
   ],
   "source": [
    "#Logarithmic Regression:\n",
    "# Y = a + b*ln(X)\n",
    "# Y = output\n",
    "# X = input feature\n",
    "# a = the line/curve always passes through(1,a)\n",
    "# b = controls the rate of growth\n",
    "\n",
    "#Dataste:\n",
    "x = np.arange(1, 50, 0.5)\n",
    "y = 10 + 2 * np.log(x)\n",
    "\n",
    "noise = np.random.rand(len(y))\n",
    "\n",
    "y += noise\n",
    "plt.scatter(x, y)"
   ]
  },
  {
   "cell_type": "code",
   "execution_count": 14,
   "metadata": {},
   "outputs": [
    {
     "name": "stdout",
     "output_type": "stream",
     "text": [
      "(98,)\n",
      "(98, 1)\n"
     ]
    }
   ],
   "source": [
    "# 1st column of X matrix should be 1:\n",
    "n = len(x)\n",
    "x_bias = np.ones((n,1))\n",
    "\n",
    "print(x.shape)\n",
    "print(x_bias.shape)"
   ]
  },
  {
   "cell_type": "code",
   "execution_count": 16,
   "metadata": {},
   "outputs": [
    {
     "name": "stdout",
     "output_type": "stream",
     "text": [
      "(98, 1)\n"
     ]
    }
   ],
   "source": [
    "#Reshape x to be a vector\n",
    "x = np.reshape(x, (n,1))\n",
    "print(x.shape)"
   ]
  },
  {
   "cell_type": "code",
   "execution_count": 17,
   "metadata": {},
   "outputs": [
    {
     "data": {
      "text/plain": [
       "array([10.63528737,  1.95755023])"
      ]
     },
     "execution_count": 17,
     "metadata": {},
     "output_type": "execute_result"
    }
   ],
   "source": [
    "#going with the formula:\n",
    "# Y = a + b*ln(X)\n",
    "x_log = np.log(x)\n",
    "\n",
    "#append x_log to x_bias\n",
    "x_new = np.append(x_bias, x_log, axis = 1)\n",
    "\n",
    "# Finding parameters:\n",
    "theta = np.linalg.inv(x_new.T @ x_new) @ (x_new.T @ y)\n",
    "theta"
   ]
  },
  {
   "cell_type": "code",
   "execution_count": 19,
   "metadata": {},
   "outputs": [
    {
     "data": {
      "image/png": "[encoded data removed]",
      "text/plain": [
       "<Figure size 432x288 with 1 Axes>"
      ]
     },
     "metadata": {
      "needs_background": "light"
     },
     "output_type": "display_data"
    }
   ],
   "source": [
    "#Plot the data:\n",
    "a = theta[0]\n",
    "b = theta[1]\n",
    "y_plot = a + b*np.log(x)\n",
    "plt.scatter(x,y)\n",
    "plt.plot(x,y_plot, c='r')\n",
    "plt.show()\n"
   ]
  },
  {
   "cell_type": "code",
   "execution_count": 20,
   "metadata": {},
   "outputs": [
    {
     "name": "stdout",
     "output_type": "stream",
     "text": [
      "0.966297677099384\n"
     ]
    }
   ],
   "source": [
    "#Check accuracy:\n",
    "r2 = r2_score(y,y_plot)\n",
    "print(r2)"
   ]
  }
 ],
 "metadata": {
  "kernelspec": {
   "display_name": "Python 3",
   "language": "python",
   "name": "python3"
  },
  "language_info": {
   "codemirror_mode": {
    "name": "ipython",
    "version": 3
   },
   "file_extension": ".py",
   "mimetype": "text/x-python",
   "name": "python",
   "nbconvert_exporter": "python",
   "pygments_lexer": "ipython3",
   "version": "3.7.3"
  }
 },
 "nbformat": 4,
 "nbformat_minor": 4
}
